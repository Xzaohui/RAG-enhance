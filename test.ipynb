{
 "cells": [
  {
   "cell_type": "code",
   "execution_count": 3,
   "metadata": {},
   "outputs": [
    {
     "name": "stderr",
     "output_type": "stream",
     "text": [
      "Loading checkpoint shards: 100%|██████████| 3/3 [00:15<00:00,  5.03s/it]\n"
     ]
    }
   ],
   "source": [
    "import transformers\n",
    "from transformers import AutoTokenizer, AutoModelForCausalLM\n",
    "\n",
    "tokenizer = AutoTokenizer.from_pretrained(\"meta-llama/Llama-2-13b-chat-hf\")\n",
    "model = AutoModelForCausalLM.from_pretrained(\"meta-llama/Llama-2-13b-chat-hf\",device_map=\"balanced\")\n"
   ]
  },
  {
   "cell_type": "code",
   "execution_count": 2,
   "metadata": {},
   "outputs": [],
   "source": [
    "p_qag=\"\"\"\n",
    "You are a Query/Answer generator that generates new multiple Query or Answers based on origen Query, old Query and known KV informations.Continue generating queries if the Answer is not clear, and generate Answers if the Answer is clear. The Answer must be based on origen Query. Now give the old Query and KV information:\n",
    "Query:{}\n",
    "KV informations:{}\n",
    "\"\"\"\n",
    "\n",
    "p_kve=\"\"\"\n",
    "You are a KV extractor. I will provide a Query, and you will extract relevant key-value pairs from the document. The key-value pairs here may not be direct Answers to the Query.\n",
    "Doc:{}\n",
    "Query:{}\n",
    "\"\"\"\n",
    "\n",
    "p_judge=\"\"\"\n",
    "You are a Query and answer evaluator, and you will use one Query and two answers to determine whether their conclusions are consistent.\n",
    "Query:{}\n",
    "answer1:{}\n",
    "answer2:{}\n",
    "\"\"\"\n",
    "\n",
    "device='cuda'\n",
    "# model.to(device)\n",
    "\n",
    "def kv_extract(doc,query):\n",
    "    input_text=p_kve.format(doc,query)\n",
    "    inputs=tokenizer(input_text, return_tensors=\"pt\")\n",
    "    out = model.generate(\n",
    "        input_ids=inputs[\"input_ids\"]\n",
    "    )\n",
    "    out_text = tokenizer.decode(out[0])\n",
    "    print(out_text)\n",
    "\n",
    "def qa_generate(query,kv):\n",
    "    input_text=p_kve.format(query,kv)\n",
    "    inputs=tokenizer(input_text, return_tensors=\"pt\")\n",
    "    out = model.generate(\n",
    "        input_ids=inputs[\"input_ids\"]\n",
    "    )\n",
    "    out_text = tokenizer.decode(out[0])\n",
    "    print(out_text)\n",
    "\n",
    "# def evaluator(query,ans,ground_truth):\n",
    "#     input_text=p_kve.format(query,ans,ground_truth)\n",
    "#     inputs=tokenizer(input_text, return_tensors=\"pt\")\n",
    "#     out = model.generate(\n",
    "#         input_ids=inputs[\"input_ids\"].to(device)\n",
    "#     )\n",
    "#     out_text = tokenizer.decode(out[0])\n",
    "#     print(out_text)\n"
   ]
  },
  {
   "cell_type": "code",
   "execution_count": null,
   "metadata": {},
   "outputs": [
    {
     "name": "stderr",
     "output_type": "stream",
     "text": [
      "/opt/conda/envs/ptca/lib/python3.8/site-packages/transformers/generation/utils.py:1539: UserWarning: You are calling .generate() with the `input_ids` being on a device type different than your model's device. `input_ids` is on cpu, whereas the model is on cuda. You may experience unexpected behaviors or slower generation. Please make sure that you have put `input_ids` to the correct device by calling for example input_ids = input_ids.to('cuda') before running `.generate()`.\n",
      "  warnings.warn(\n"
     ]
    },
    {
     "name": "stdout",
     "output_type": "stream",
     "text": [
      "<s> \n",
      "You are a KV extractor. I will provide a Query, and you will extract relevant key-value pairs from the document. The key-value pairs here may not be direct Answers to the Query.\n",
      "Doc:One Law for the Woman is a 1924 American silent western film directed by Dell Henderson and starring Cullen Landis, Mildred Harris and Cecil Spooner.\n",
      "Query:Which country the director of film One Law For The Woman is from?\n",
      "\n",
      "Please provide the key-value pairs extracted from the document.\n",
      "\n",
      "\n",
      "\n",
      "\n",
      "\n",
      "</s>\n"
     ]
    }
   ],
   "source": [
    "doc=\"One Law for the Woman is a 1924 American silent western film directed by Dell Henderson and starring Cullen Landis, Mildred Harris and Cecil Spooner.\"\n",
    "query=\"Which country the director of film One Law For The Woman is from?\"\n",
    "kv_extract(doc,query)"
   ]
  },
  {
   "cell_type": "code",
   "execution_count": null,
   "metadata": {},
   "outputs": [],
   "source": []
  }
 ],
 "metadata": {
  "kernelspec": {
   "display_name": "ptca",
   "language": "python",
   "name": "python3"
  },
  "language_info": {
   "codemirror_mode": {
    "name": "ipython",
    "version": 3
   },
   "file_extension": ".py",
   "mimetype": "text/x-python",
   "name": "python",
   "nbconvert_exporter": "python",
   "pygments_lexer": "ipython3",
   "version": "3.8.12"
  },
  "orig_nbformat": 4
 },
 "nbformat": 4,
 "nbformat_minor": 2
}
