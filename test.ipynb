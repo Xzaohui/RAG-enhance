{
 "cells": [
  {
   "cell_type": "code",
   "execution_count": 1,
   "metadata": {},
   "outputs": [
    {
     "name": "stderr",
     "output_type": "stream",
     "text": [
      "/scratch/AzureNfsServer_INPUT1/ads-nfs/zaohuixu/conda/envs/llm/lib/python3.9/site-packages/tqdm/auto.py:21: TqdmWarning: IProgress not found. Please update jupyter and ipywidgets. See https://ipywidgets.readthedocs.io/en/stable/user_install.html\n",
      "  from .autonotebook import tqdm as notebook_tqdm\n"
     ]
    },
    {
     "name": "stdout",
     "output_type": "stream",
     "text": [
      "True\n"
     ]
    }
   ],
   "source": [
    "import transformers\n",
    "from transformers import AutoTokenizer, AutoModelForCausalLM\n",
    "import torch\n",
    "print(torch.cuda.is_available())"
   ]
  },
  {
   "cell_type": "code",
   "execution_count": 2,
   "metadata": {},
   "outputs": [
    {
     "name": "stderr",
     "output_type": "stream",
     "text": [
      "Loading checkpoint shards: 100%|██████████| 15/15 [00:28<00:00,  1.88s/it]\n"
     ]
    },
    {
     "ename": "OutOfMemoryError",
     "evalue": "CUDA out of memory. Tried to allocate 20.00 MiB. GPU 1 has a total capacty of 31.75 GiB of which 6.94 MiB is free. Process 170740 has 29.87 GiB memory in use. Process 349402 has 1.87 GiB memory in use. Of the allocated memory 1.02 GiB is allocated by PyTorch, and 1.99 MiB is reserved by PyTorch but unallocated. If reserved but unallocated memory is large try setting max_split_size_mb to avoid fragmentation.  See documentation for Memory Management and PYTORCH_CUDA_ALLOC_CONF",
     "output_type": "error",
     "traceback": [
      "\u001b[0;31m---------------------------------------------------------------------------\u001b[0m",
      "\u001b[0;31mOutOfMemoryError\u001b[0m                          Traceback (most recent call last)",
      "\u001b[1;32m/scratch/AzureNfsServer_INPUT1/ads-nfs/zaohuixu/RAG-enhance/test.ipynb 单元格 2\u001b[0m line \u001b[0;36m2\n\u001b[1;32m      <a href='vscode-notebook-cell://ssh-remote%2Bnode-0.3591b037-a861-4b54-a37b-e834de4c8b23/scratch/AzureNfsServer_INPUT1/ads-nfs/zaohuixu/RAG-enhance/test.ipynb#W1sdnNjb2RlLXJlbW90ZQ%3D%3D?line=0'>1</a>\u001b[0m tokenizer \u001b[39m=\u001b[39m AutoTokenizer\u001b[39m.\u001b[39mfrom_pretrained(\u001b[39m\"\u001b[39m\u001b[39mmeta-llama/Llama-2-70b-chat-hf\u001b[39m\u001b[39m\"\u001b[39m)\n\u001b[0;32m----> <a href='vscode-notebook-cell://ssh-remote%2Bnode-0.3591b037-a861-4b54-a37b-e834de4c8b23/scratch/AzureNfsServer_INPUT1/ads-nfs/zaohuixu/RAG-enhance/test.ipynb#W1sdnNjb2RlLXJlbW90ZQ%3D%3D?line=1'>2</a>\u001b[0m model \u001b[39m=\u001b[39m AutoModelForCausalLM\u001b[39m.\u001b[39;49mfrom_pretrained(\u001b[39m\"\u001b[39;49m\u001b[39mmeta-llama/Llama-2-70b-chat-hf\u001b[39;49m\u001b[39m\"\u001b[39;49m,device_map\u001b[39m=\u001b[39;49m\u001b[39m\"\u001b[39;49m\u001b[39mauto\u001b[39;49m\u001b[39m\"\u001b[39;49m)\n",
      "File \u001b[0;32m/scratch/AzureNfsServer_INPUT1/ads-nfs/zaohuixu/conda/envs/llm/lib/python3.9/site-packages/transformers/models/auto/auto_factory.py:565\u001b[0m, in \u001b[0;36m_BaseAutoModelClass.from_pretrained\u001b[0;34m(cls, pretrained_model_name_or_path, *model_args, **kwargs)\u001b[0m\n\u001b[1;32m    563\u001b[0m \u001b[39melif\u001b[39;00m \u001b[39mtype\u001b[39m(config) \u001b[39min\u001b[39;00m \u001b[39mcls\u001b[39m\u001b[39m.\u001b[39m_model_mapping\u001b[39m.\u001b[39mkeys():\n\u001b[1;32m    564\u001b[0m     model_class \u001b[39m=\u001b[39m _get_model_class(config, \u001b[39mcls\u001b[39m\u001b[39m.\u001b[39m_model_mapping)\n\u001b[0;32m--> 565\u001b[0m     \u001b[39mreturn\u001b[39;00m model_class\u001b[39m.\u001b[39;49mfrom_pretrained(\n\u001b[1;32m    566\u001b[0m         pretrained_model_name_or_path, \u001b[39m*\u001b[39;49mmodel_args, config\u001b[39m=\u001b[39;49mconfig, \u001b[39m*\u001b[39;49m\u001b[39m*\u001b[39;49mhub_kwargs, \u001b[39m*\u001b[39;49m\u001b[39m*\u001b[39;49mkwargs\n\u001b[1;32m    567\u001b[0m     )\n\u001b[1;32m    568\u001b[0m \u001b[39mraise\u001b[39;00m \u001b[39mValueError\u001b[39;00m(\n\u001b[1;32m    569\u001b[0m     \u001b[39mf\u001b[39m\u001b[39m\"\u001b[39m\u001b[39mUnrecognized configuration class \u001b[39m\u001b[39m{\u001b[39;00mconfig\u001b[39m.\u001b[39m\u001b[39m__class__\u001b[39m\u001b[39m}\u001b[39;00m\u001b[39m for this kind of AutoModel: \u001b[39m\u001b[39m{\u001b[39;00m\u001b[39mcls\u001b[39m\u001b[39m.\u001b[39m\u001b[39m__name__\u001b[39m\u001b[39m}\u001b[39;00m\u001b[39m.\u001b[39m\u001b[39m\\n\u001b[39;00m\u001b[39m\"\u001b[39m\n\u001b[1;32m    570\u001b[0m     \u001b[39mf\u001b[39m\u001b[39m\"\u001b[39m\u001b[39mModel type should be one of \u001b[39m\u001b[39m{\u001b[39;00m\u001b[39m'\u001b[39m\u001b[39m, \u001b[39m\u001b[39m'\u001b[39m\u001b[39m.\u001b[39mjoin(c\u001b[39m.\u001b[39m\u001b[39m__name__\u001b[39m\u001b[39m \u001b[39m\u001b[39mfor\u001b[39;00m\u001b[39m \u001b[39mc\u001b[39m \u001b[39m\u001b[39min\u001b[39;00m\u001b[39m \u001b[39m\u001b[39mcls\u001b[39m\u001b[39m.\u001b[39m_model_mapping\u001b[39m.\u001b[39mkeys())\u001b[39m}\u001b[39;00m\u001b[39m.\u001b[39m\u001b[39m\"\u001b[39m\n\u001b[1;32m    571\u001b[0m )\n",
      "File \u001b[0;32m/scratch/AzureNfsServer_INPUT1/ads-nfs/zaohuixu/conda/envs/llm/lib/python3.9/site-packages/transformers/modeling_utils.py:3366\u001b[0m, in \u001b[0;36mPreTrainedModel.from_pretrained\u001b[0;34m(cls, pretrained_model_name_or_path, config, cache_dir, ignore_mismatched_sizes, force_download, local_files_only, token, revision, use_safetensors, *model_args, **kwargs)\u001b[0m\n\u001b[1;32m   3364\u001b[0m     \u001b[39mif\u001b[39;00m \u001b[39m\"\u001b[39m\u001b[39mskip_keys\u001b[39m\u001b[39m\"\u001b[39m \u001b[39min\u001b[39;00m inspect\u001b[39m.\u001b[39msignature(dispatch_model)\u001b[39m.\u001b[39mparameters:\n\u001b[1;32m   3365\u001b[0m         device_map_kwargs[\u001b[39m\"\u001b[39m\u001b[39mskip_keys\u001b[39m\u001b[39m\"\u001b[39m] \u001b[39m=\u001b[39m model\u001b[39m.\u001b[39m_skip_keys_device_placement\n\u001b[0;32m-> 3366\u001b[0m     dispatch_model(model, \u001b[39m*\u001b[39;49m\u001b[39m*\u001b[39;49mdevice_map_kwargs)\n\u001b[1;32m   3368\u001b[0m \u001b[39mif\u001b[39;00m quantization_method_from_args \u001b[39m==\u001b[39m QuantizationMethod\u001b[39m.\u001b[39mGPTQ:\n\u001b[1;32m   3369\u001b[0m     \u001b[39mif\u001b[39;00m quantization_config\u001b[39m.\u001b[39mtokenizer \u001b[39mis\u001b[39;00m \u001b[39mNone\u001b[39;00m:\n",
      "File \u001b[0;32m/scratch/AzureNfsServer_INPUT1/ads-nfs/zaohuixu/conda/envs/llm/lib/python3.9/site-packages/accelerate/big_modeling.py:396\u001b[0m, in \u001b[0;36mdispatch_model\u001b[0;34m(model, device_map, main_device, state_dict, offload_dir, offload_index, offload_buffers, skip_keys, preload_module_classes, force_hooks)\u001b[0m\n\u001b[1;32m    393\u001b[0m     weights_map \u001b[39m=\u001b[39m \u001b[39mNone\u001b[39;00m\n\u001b[1;32m    395\u001b[0m tied_params \u001b[39m=\u001b[39m find_tied_parameters(model)\n\u001b[0;32m--> 396\u001b[0m attach_align_device_hook_on_blocks(\n\u001b[1;32m    397\u001b[0m     model,\n\u001b[1;32m    398\u001b[0m     execution_device\u001b[39m=\u001b[39;49mexecution_device,\n\u001b[1;32m    399\u001b[0m     offload\u001b[39m=\u001b[39;49moffload,\n\u001b[1;32m    400\u001b[0m     offload_buffers\u001b[39m=\u001b[39;49moffload_buffers,\n\u001b[1;32m    401\u001b[0m     weights_map\u001b[39m=\u001b[39;49mweights_map,\n\u001b[1;32m    402\u001b[0m     skip_keys\u001b[39m=\u001b[39;49mskip_keys,\n\u001b[1;32m    403\u001b[0m     preload_module_classes\u001b[39m=\u001b[39;49mpreload_module_classes,\n\u001b[1;32m    404\u001b[0m )\n\u001b[1;32m    405\u001b[0m \u001b[39m# Attaching the hook may break tied weights, so we retie them\u001b[39;00m\n\u001b[1;32m    406\u001b[0m retie_parameters(model, tied_params)\n",
      "File \u001b[0;32m/scratch/AzureNfsServer_INPUT1/ads-nfs/zaohuixu/conda/envs/llm/lib/python3.9/site-packages/accelerate/hooks.py:537\u001b[0m, in \u001b[0;36mattach_align_device_hook_on_blocks\u001b[0;34m(module, execution_device, offload, weights_map, offload_buffers, module_name, skip_keys, preload_module_classes)\u001b[0m\n\u001b[1;32m    535\u001b[0m \u001b[39mfor\u001b[39;00m child_name, child \u001b[39min\u001b[39;00m module\u001b[39m.\u001b[39mnamed_children():\n\u001b[1;32m    536\u001b[0m     child_name \u001b[39m=\u001b[39m \u001b[39mf\u001b[39m\u001b[39m\"\u001b[39m\u001b[39m{\u001b[39;00mmodule_name\u001b[39m}\u001b[39;00m\u001b[39m.\u001b[39m\u001b[39m{\u001b[39;00mchild_name\u001b[39m}\u001b[39;00m\u001b[39m\"\u001b[39m \u001b[39mif\u001b[39;00m \u001b[39mlen\u001b[39m(module_name) \u001b[39m>\u001b[39m \u001b[39m0\u001b[39m \u001b[39melse\u001b[39;00m child_name\n\u001b[0;32m--> 537\u001b[0m     attach_align_device_hook_on_blocks(\n\u001b[1;32m    538\u001b[0m         child,\n\u001b[1;32m    539\u001b[0m         execution_device\u001b[39m=\u001b[39;49mexecution_device,\n\u001b[1;32m    540\u001b[0m         offload\u001b[39m=\u001b[39;49moffload,\n\u001b[1;32m    541\u001b[0m         weights_map\u001b[39m=\u001b[39;49mweights_map,\n\u001b[1;32m    542\u001b[0m         offload_buffers\u001b[39m=\u001b[39;49moffload_buffers,\n\u001b[1;32m    543\u001b[0m         module_name\u001b[39m=\u001b[39;49mchild_name,\n\u001b[1;32m    544\u001b[0m         preload_module_classes\u001b[39m=\u001b[39;49mpreload_module_classes,\n\u001b[1;32m    545\u001b[0m         skip_keys\u001b[39m=\u001b[39;49mskip_keys,\n\u001b[1;32m    546\u001b[0m     )\n",
      "File \u001b[0;32m/scratch/AzureNfsServer_INPUT1/ads-nfs/zaohuixu/conda/envs/llm/lib/python3.9/site-packages/accelerate/hooks.py:537\u001b[0m, in \u001b[0;36mattach_align_device_hook_on_blocks\u001b[0;34m(module, execution_device, offload, weights_map, offload_buffers, module_name, skip_keys, preload_module_classes)\u001b[0m\n\u001b[1;32m    535\u001b[0m \u001b[39mfor\u001b[39;00m child_name, child \u001b[39min\u001b[39;00m module\u001b[39m.\u001b[39mnamed_children():\n\u001b[1;32m    536\u001b[0m     child_name \u001b[39m=\u001b[39m \u001b[39mf\u001b[39m\u001b[39m\"\u001b[39m\u001b[39m{\u001b[39;00mmodule_name\u001b[39m}\u001b[39;00m\u001b[39m.\u001b[39m\u001b[39m{\u001b[39;00mchild_name\u001b[39m}\u001b[39;00m\u001b[39m\"\u001b[39m \u001b[39mif\u001b[39;00m \u001b[39mlen\u001b[39m(module_name) \u001b[39m>\u001b[39m \u001b[39m0\u001b[39m \u001b[39melse\u001b[39;00m child_name\n\u001b[0;32m--> 537\u001b[0m     attach_align_device_hook_on_blocks(\n\u001b[1;32m    538\u001b[0m         child,\n\u001b[1;32m    539\u001b[0m         execution_device\u001b[39m=\u001b[39;49mexecution_device,\n\u001b[1;32m    540\u001b[0m         offload\u001b[39m=\u001b[39;49moffload,\n\u001b[1;32m    541\u001b[0m         weights_map\u001b[39m=\u001b[39;49mweights_map,\n\u001b[1;32m    542\u001b[0m         offload_buffers\u001b[39m=\u001b[39;49moffload_buffers,\n\u001b[1;32m    543\u001b[0m         module_name\u001b[39m=\u001b[39;49mchild_name,\n\u001b[1;32m    544\u001b[0m         preload_module_classes\u001b[39m=\u001b[39;49mpreload_module_classes,\n\u001b[1;32m    545\u001b[0m         skip_keys\u001b[39m=\u001b[39;49mskip_keys,\n\u001b[1;32m    546\u001b[0m     )\n",
      "File \u001b[0;32m/scratch/AzureNfsServer_INPUT1/ads-nfs/zaohuixu/conda/envs/llm/lib/python3.9/site-packages/accelerate/hooks.py:510\u001b[0m, in \u001b[0;36mattach_align_device_hook_on_blocks\u001b[0;34m(module, execution_device, offload, weights_map, offload_buffers, module_name, skip_keys, preload_module_classes)\u001b[0m\n\u001b[1;32m    508\u001b[0m     attach_execution_device_hook(module, execution_device[module_name])\n\u001b[1;32m    509\u001b[0m \u001b[39melif\u001b[39;00m module_name \u001b[39min\u001b[39;00m execution_device \u001b[39mand\u001b[39;00m module_name \u001b[39min\u001b[39;00m offload:\n\u001b[0;32m--> 510\u001b[0m     attach_align_device_hook(\n\u001b[1;32m    511\u001b[0m         module,\n\u001b[1;32m    512\u001b[0m         execution_device\u001b[39m=\u001b[39;49mexecution_device[module_name],\n\u001b[1;32m    513\u001b[0m         offload\u001b[39m=\u001b[39;49m\u001b[39mTrue\u001b[39;49;00m,\n\u001b[1;32m    514\u001b[0m         weights_map\u001b[39m=\u001b[39;49mweights_map,\n\u001b[1;32m    515\u001b[0m         offload_buffers\u001b[39m=\u001b[39;49moffload_buffers,\n\u001b[1;32m    516\u001b[0m         module_name\u001b[39m=\u001b[39;49mmodule_name,\n\u001b[1;32m    517\u001b[0m         skip_keys\u001b[39m=\u001b[39;49mskip_keys,\n\u001b[1;32m    518\u001b[0m         preload_module_classes\u001b[39m=\u001b[39;49mpreload_module_classes,\n\u001b[1;32m    519\u001b[0m     )\n\u001b[1;32m    520\u001b[0m     \u001b[39mif\u001b[39;00m \u001b[39mnot\u001b[39;00m \u001b[39mhasattr\u001b[39m(module, \u001b[39m\"\u001b[39m\u001b[39m_hf_hook\u001b[39m\u001b[39m\"\u001b[39m):\n\u001b[1;32m    521\u001b[0m         hook \u001b[39m=\u001b[39m AlignDevicesHook(\n\u001b[1;32m    522\u001b[0m             execution_device\u001b[39m=\u001b[39mexecution_device[module_name], io_same_device\u001b[39m=\u001b[39m(module_name \u001b[39m==\u001b[39m \u001b[39m\"\u001b[39m\u001b[39m\"\u001b[39m), skip_keys\u001b[39m=\u001b[39mskip_keys\n\u001b[1;32m    523\u001b[0m         )\n",
      "File \u001b[0;32m/scratch/AzureNfsServer_INPUT1/ads-nfs/zaohuixu/conda/envs/llm/lib/python3.9/site-packages/accelerate/hooks.py:415\u001b[0m, in \u001b[0;36mattach_align_device_hook\u001b[0;34m(module, execution_device, offload, weights_map, offload_buffers, module_name, skip_keys, preload_module_classes)\u001b[0m\n\u001b[1;32m    413\u001b[0m \u001b[39mfor\u001b[39;00m child_name, child \u001b[39min\u001b[39;00m module\u001b[39m.\u001b[39mnamed_children():\n\u001b[1;32m    414\u001b[0m     child_name \u001b[39m=\u001b[39m \u001b[39mf\u001b[39m\u001b[39m\"\u001b[39m\u001b[39m{\u001b[39;00mmodule_name\u001b[39m}\u001b[39;00m\u001b[39m.\u001b[39m\u001b[39m{\u001b[39;00mchild_name\u001b[39m}\u001b[39;00m\u001b[39m\"\u001b[39m \u001b[39mif\u001b[39;00m \u001b[39mlen\u001b[39m(module_name) \u001b[39m>\u001b[39m \u001b[39m0\u001b[39m \u001b[39melse\u001b[39;00m child_name\n\u001b[0;32m--> 415\u001b[0m     attach_align_device_hook(\n\u001b[1;32m    416\u001b[0m         child,\n\u001b[1;32m    417\u001b[0m         execution_device\u001b[39m=\u001b[39;49mexecution_device,\n\u001b[1;32m    418\u001b[0m         offload\u001b[39m=\u001b[39;49moffload,\n\u001b[1;32m    419\u001b[0m         weights_map\u001b[39m=\u001b[39;49mweights_map,\n\u001b[1;32m    420\u001b[0m         offload_buffers\u001b[39m=\u001b[39;49moffload_buffers,\n\u001b[1;32m    421\u001b[0m         module_name\u001b[39m=\u001b[39;49mchild_name,\n\u001b[1;32m    422\u001b[0m         preload_module_classes\u001b[39m=\u001b[39;49mpreload_module_classes,\n\u001b[1;32m    423\u001b[0m         skip_keys\u001b[39m=\u001b[39;49mskip_keys,\n\u001b[1;32m    424\u001b[0m     )\n",
      "File \u001b[0;32m/scratch/AzureNfsServer_INPUT1/ads-nfs/zaohuixu/conda/envs/llm/lib/python3.9/site-packages/accelerate/hooks.py:415\u001b[0m, in \u001b[0;36mattach_align_device_hook\u001b[0;34m(module, execution_device, offload, weights_map, offload_buffers, module_name, skip_keys, preload_module_classes)\u001b[0m\n\u001b[1;32m    413\u001b[0m \u001b[39mfor\u001b[39;00m child_name, child \u001b[39min\u001b[39;00m module\u001b[39m.\u001b[39mnamed_children():\n\u001b[1;32m    414\u001b[0m     child_name \u001b[39m=\u001b[39m \u001b[39mf\u001b[39m\u001b[39m\"\u001b[39m\u001b[39m{\u001b[39;00mmodule_name\u001b[39m}\u001b[39;00m\u001b[39m.\u001b[39m\u001b[39m{\u001b[39;00mchild_name\u001b[39m}\u001b[39;00m\u001b[39m\"\u001b[39m \u001b[39mif\u001b[39;00m \u001b[39mlen\u001b[39m(module_name) \u001b[39m>\u001b[39m \u001b[39m0\u001b[39m \u001b[39melse\u001b[39;00m child_name\n\u001b[0;32m--> 415\u001b[0m     attach_align_device_hook(\n\u001b[1;32m    416\u001b[0m         child,\n\u001b[1;32m    417\u001b[0m         execution_device\u001b[39m=\u001b[39;49mexecution_device,\n\u001b[1;32m    418\u001b[0m         offload\u001b[39m=\u001b[39;49moffload,\n\u001b[1;32m    419\u001b[0m         weights_map\u001b[39m=\u001b[39;49mweights_map,\n\u001b[1;32m    420\u001b[0m         offload_buffers\u001b[39m=\u001b[39;49moffload_buffers,\n\u001b[1;32m    421\u001b[0m         module_name\u001b[39m=\u001b[39;49mchild_name,\n\u001b[1;32m    422\u001b[0m         preload_module_classes\u001b[39m=\u001b[39;49mpreload_module_classes,\n\u001b[1;32m    423\u001b[0m         skip_keys\u001b[39m=\u001b[39;49mskip_keys,\n\u001b[1;32m    424\u001b[0m     )\n",
      "File \u001b[0;32m/scratch/AzureNfsServer_INPUT1/ads-nfs/zaohuixu/conda/envs/llm/lib/python3.9/site-packages/accelerate/hooks.py:415\u001b[0m, in \u001b[0;36mattach_align_device_hook\u001b[0;34m(module, execution_device, offload, weights_map, offload_buffers, module_name, skip_keys, preload_module_classes)\u001b[0m\n\u001b[1;32m    413\u001b[0m \u001b[39mfor\u001b[39;00m child_name, child \u001b[39min\u001b[39;00m module\u001b[39m.\u001b[39mnamed_children():\n\u001b[1;32m    414\u001b[0m     child_name \u001b[39m=\u001b[39m \u001b[39mf\u001b[39m\u001b[39m\"\u001b[39m\u001b[39m{\u001b[39;00mmodule_name\u001b[39m}\u001b[39;00m\u001b[39m.\u001b[39m\u001b[39m{\u001b[39;00mchild_name\u001b[39m}\u001b[39;00m\u001b[39m\"\u001b[39m \u001b[39mif\u001b[39;00m \u001b[39mlen\u001b[39m(module_name) \u001b[39m>\u001b[39m \u001b[39m0\u001b[39m \u001b[39melse\u001b[39;00m child_name\n\u001b[0;32m--> 415\u001b[0m     attach_align_device_hook(\n\u001b[1;32m    416\u001b[0m         child,\n\u001b[1;32m    417\u001b[0m         execution_device\u001b[39m=\u001b[39;49mexecution_device,\n\u001b[1;32m    418\u001b[0m         offload\u001b[39m=\u001b[39;49moffload,\n\u001b[1;32m    419\u001b[0m         weights_map\u001b[39m=\u001b[39;49mweights_map,\n\u001b[1;32m    420\u001b[0m         offload_buffers\u001b[39m=\u001b[39;49moffload_buffers,\n\u001b[1;32m    421\u001b[0m         module_name\u001b[39m=\u001b[39;49mchild_name,\n\u001b[1;32m    422\u001b[0m         preload_module_classes\u001b[39m=\u001b[39;49mpreload_module_classes,\n\u001b[1;32m    423\u001b[0m         skip_keys\u001b[39m=\u001b[39;49mskip_keys,\n\u001b[1;32m    424\u001b[0m     )\n",
      "File \u001b[0;32m/scratch/AzureNfsServer_INPUT1/ads-nfs/zaohuixu/conda/envs/llm/lib/python3.9/site-packages/accelerate/hooks.py:406\u001b[0m, in \u001b[0;36mattach_align_device_hook\u001b[0;34m(module, execution_device, offload, weights_map, offload_buffers, module_name, skip_keys, preload_module_classes)\u001b[0m\n\u001b[1;32m    397\u001b[0m         prefixed_weights_map \u001b[39m=\u001b[39m \u001b[39mNone\u001b[39;00m\n\u001b[1;32m    398\u001b[0m     hook \u001b[39m=\u001b[39m AlignDevicesHook(\n\u001b[1;32m    399\u001b[0m         execution_device\u001b[39m=\u001b[39mexecution_device,\n\u001b[1;32m    400\u001b[0m         offload\u001b[39m=\u001b[39moffload,\n\u001b[0;32m   (...)\u001b[0m\n\u001b[1;32m    404\u001b[0m         skip_keys\u001b[39m=\u001b[39mskip_keys,\n\u001b[1;32m    405\u001b[0m     )\n\u001b[0;32m--> 406\u001b[0m     add_hook_to_module(module, hook, append\u001b[39m=\u001b[39;49m\u001b[39mTrue\u001b[39;49;00m)\n\u001b[1;32m    408\u001b[0m \u001b[39m# We stop the recursion in case we hit the full offload.\u001b[39;00m\n\u001b[1;32m    409\u001b[0m \u001b[39mif\u001b[39;00m full_offload:\n",
      "File \u001b[0;32m/scratch/AzureNfsServer_INPUT1/ads-nfs/zaohuixu/conda/envs/llm/lib/python3.9/site-packages/accelerate/hooks.py:155\u001b[0m, in \u001b[0;36madd_hook_to_module\u001b[0;34m(module, hook, append)\u001b[0m\n\u001b[1;32m    152\u001b[0m     old_forward \u001b[39m=\u001b[39m module\u001b[39m.\u001b[39mforward\n\u001b[1;32m    153\u001b[0m     module\u001b[39m.\u001b[39m_old_forward \u001b[39m=\u001b[39m old_forward\n\u001b[0;32m--> 155\u001b[0m module \u001b[39m=\u001b[39m hook\u001b[39m.\u001b[39;49minit_hook(module)\n\u001b[1;32m    156\u001b[0m module\u001b[39m.\u001b[39m_hf_hook \u001b[39m=\u001b[39m hook\n\u001b[1;32m    158\u001b[0m \u001b[39m@functools\u001b[39m\u001b[39m.\u001b[39mwraps(old_forward)\n\u001b[1;32m    159\u001b[0m \u001b[39mdef\u001b[39;00m \u001b[39mnew_forward\u001b[39m(\u001b[39m*\u001b[39margs, \u001b[39m*\u001b[39m\u001b[39m*\u001b[39mkwargs):\n",
      "File \u001b[0;32m/scratch/AzureNfsServer_INPUT1/ads-nfs/zaohuixu/conda/envs/llm/lib/python3.9/site-packages/accelerate/hooks.py:272\u001b[0m, in \u001b[0;36mAlignDevicesHook.init_hook\u001b[0;34m(self, module)\u001b[0m\n\u001b[1;32m    270\u001b[0m     \u001b[39mif\u001b[39;00m \u001b[39mnot\u001b[39;00m \u001b[39mself\u001b[39m\u001b[39m.\u001b[39moffload_buffers \u001b[39mand\u001b[39;00m \u001b[39mself\u001b[39m\u001b[39m.\u001b[39mexecution_device \u001b[39mis\u001b[39;00m \u001b[39mnot\u001b[39;00m \u001b[39mNone\u001b[39;00m:\n\u001b[1;32m    271\u001b[0m         \u001b[39mfor\u001b[39;00m name, _ \u001b[39min\u001b[39;00m module\u001b[39m.\u001b[39mnamed_buffers(recurse\u001b[39m=\u001b[39m\u001b[39mself\u001b[39m\u001b[39m.\u001b[39mplace_submodules):\n\u001b[0;32m--> 272\u001b[0m             set_module_tensor_to_device(module, name, \u001b[39mself\u001b[39;49m\u001b[39m.\u001b[39;49mexecution_device)\n\u001b[1;32m    273\u001b[0m \u001b[39mreturn\u001b[39;00m module\n",
      "File \u001b[0;32m/scratch/AzureNfsServer_INPUT1/ads-nfs/zaohuixu/conda/envs/llm/lib/python3.9/site-packages/accelerate/utils/modeling.py:311\u001b[0m, in \u001b[0;36mset_module_tensor_to_device\u001b[0;34m(module, tensor_name, device, value, dtype, fp16_statistics)\u001b[0m\n\u001b[1;32m    309\u001b[0m     device \u001b[39m=\u001b[39m \u001b[39m\"\u001b[39m\u001b[39mcpu\u001b[39m\u001b[39m\"\u001b[39m\n\u001b[1;32m    310\u001b[0m \u001b[39mif\u001b[39;00m value \u001b[39mis\u001b[39;00m \u001b[39mNone\u001b[39;00m:\n\u001b[0;32m--> 311\u001b[0m     new_value \u001b[39m=\u001b[39m old_value\u001b[39m.\u001b[39;49mto(device)\n\u001b[1;32m    312\u001b[0m     \u001b[39mif\u001b[39;00m dtype \u001b[39mis\u001b[39;00m \u001b[39mnot\u001b[39;00m \u001b[39mNone\u001b[39;00m \u001b[39mand\u001b[39;00m device \u001b[39min\u001b[39;00m [\u001b[39m\"\u001b[39m\u001b[39mmeta\u001b[39m\u001b[39m\"\u001b[39m, torch\u001b[39m.\u001b[39mdevice(\u001b[39m\"\u001b[39m\u001b[39mmeta\u001b[39m\u001b[39m\"\u001b[39m)]:\n\u001b[1;32m    313\u001b[0m         new_value \u001b[39m=\u001b[39m new_value\u001b[39m.\u001b[39mto(dtype)\n",
      "\u001b[0;31mOutOfMemoryError\u001b[0m: CUDA out of memory. Tried to allocate 20.00 MiB. GPU 1 has a total capacty of 31.75 GiB of which 6.94 MiB is free. Process 170740 has 29.87 GiB memory in use. Process 349402 has 1.87 GiB memory in use. Of the allocated memory 1.02 GiB is allocated by PyTorch, and 1.99 MiB is reserved by PyTorch but unallocated. If reserved but unallocated memory is large try setting max_split_size_mb to avoid fragmentation.  See documentation for Memory Management and PYTORCH_CUDA_ALLOC_CONF"
     ]
    }
   ],
   "source": [
    "tokenizer = AutoTokenizer.from_pretrained(\"meta-llama/Llama-2-70b-chat-hf\")\n",
    "model = AutoModelForCausalLM.from_pretrained(\"meta-llama/Llama-2-70b-chat-hf\",device_map=\"auto\")"
   ]
  },
  {
   "cell_type": "code",
   "execution_count": null,
   "metadata": {},
   "outputs": [],
   "source": [
    "p_qag=\"\"\"\n",
    "You are a Query/Answer generator that generates new 4 Queries or Answers which is based on old Queries and known spo informations. if the Answer is not clear you need to reply [],if the Answer is clear you need to generate Answers. The new Queries/Answer must be based on old Queries and spo informations. Now give the old Queries and spo informations:\n",
    "{}\n",
    "{}\n",
    "\"\"\"\n",
    "\n",
    "p_kve=\"\"\"\n",
    "You are a Subject-Predicate-Object extractor.I will give you a Doc you will extract Subject-Predicate-Object from the Doc. If no information is available then reply []\n",
    "{}\n",
    "Doc:{}\n",
    "SPO:\n",
    "\"\"\"\n",
    "\n",
    "p_judge=\"\"\"\n",
    "You are a Query and answer evaluator, and you will use one Query and two answers to determine whether their conclusions are consistent.\n",
    "Query:{}\n",
    "answer1:{}\n",
    "answer2:{}\n",
    "\"\"\"\n",
    "\n",
    "device='cuda'\n",
    "# model.to(device)\n",
    "\n",
    "def spo_extract(doc):\n",
    "    example=\"\"\"\n",
    "Doc:One Law for the Woman is a 1924 American silent western film directed by Dell Henderson and starring Cullen Landis, Mildred Harris and Cecil Spooner.\n",
    "SPO:\n",
    "[\n",
    "{\"Subject\":\"One Law for the Woman\",\"Predicate\":\"director\",\"Object\":\"Dell Henderson\"},\n",
    "{\"Subject\":\"One Law for the Woman\",\"Predicate\":\"starring role\",\"Object\":\"Cullen Landis\"},\n",
    "{\"Subject\":\"One Law for the Woman\",\"Predicate\":\"starring role\",\"Object\":\"Mildred Harris\"},\n",
    "{\"Subject\":\"One Law for the Woman\",\"Predicate\":\"starring role\",\"Object\":\"Cecil Spooner\"},\n",
    "{\"Subject\":\"One Law for the Woman\",\"Predicate\":\"premiere date\",\"Object\":\"1924\"},\n",
    "{\"Subject\":\"One Law for the Woman\",\"Predicate\":\"country\",\"Object\":\"American\"},\n",
    "{\"Subject\":\"One Law for the Woman\",\"Predicate\":\"theme\",\"Object\":\"silent western film\"},\n",
    "]\n",
    "\"\"\"\n",
    "    input_text=p_kve.format(example,doc)\n",
    "    inputs=tokenizer(input_text, return_tensors=\"pt\")\n",
    "    out = model.generate(\n",
    "        input_ids=inputs[\"input_ids\"]\n",
    "    )\n",
    "    out_text = tokenizer.decode(out[0])\n",
    "    print(out_text)\n",
    "\n",
    "def qa_generate(query,spo):\n",
    "    example=\"\"\"\n",
    "old Query:\n",
    "[\n",
    "\"Are director of film Move (1970 Film) and director of film Méditerranée (1963 Film) from the same country?\",\n",
    "\"Is the director of the movie \\\"Move\\\" (1970) the same nationality as the director of the film \\\"Méditerranée\\\" (1963)?\",\n",
    "\"Do the director of \\\"Move\\\" (1970) and the director of \\\"Méditerranée\\\" (1963) hail from the same country?\",\n",
    "\"Can it be confirmed whether the director of the film \\\"Move\\\" (1970) and the director of \\\"Méditerranée\\\" (1963) are of the same origin?\"\n",
    "]\n",
    "spo informations:\n",
    "[\n",
    "{\"Subject\":\"Move\",\"Predicate\":\"director\",\"Object\":\"Stuart Rosenberg\"},\n",
    "{\"Subject\":\"Méditerranée\",\"Predicate\":\"director\",\"Object\":\"Jean-Daniel Pollet\"},\n",
    "]\n",
    "new Querys:\n",
    "[\n",
    "\"Are Stuart Rosenberg, the director of \\\"Move\\\" (1970), and Jean-Daniel Pollet, the director of \\\"Méditerranée\\\" (1963), from the same country?\",\n",
    "\"Is Stuart Rosenberg, the director of \\\"Move\\\" (1970), and Jean-Daniel Pollet, the director of \\\"Méditerranée\\\" (1963), of the same nationality?\",\n",
    "\"Do Stuart Rosenberg, the director of \\\"Move\\\" (1970), and Jean-Daniel Pollet, the director of \\\"Méditerranée\\\" (1963), share the same country of origin?\",\n",
    "\"Is the country of origin the same for Stuart Rosenberg, director of \\\"Move\\\" (1970), and Jean-Daniel Pollet, director of \\\"Méditerranée\\\" (1963)?\"\n",
    "]\n",
    "Answer:\n",
    "[]\n",
    "\"\"\"\n",
    "\n",
    "    tmp=\"\"\"\n",
    "old Query:\n",
    "{}\n",
    "spo informations:\n",
    "{}\n",
    "\"\"\"\n",
    "    input_text=p_kve.format(example,tmp.format(query,spo))\n",
    "    inputs=tokenizer(input_text, return_tensors=\"pt\")\n",
    "    out = model.generate(\n",
    "        input_ids=inputs[\"input_ids\"]\n",
    "    )\n",
    "    out_text = tokenizer.decode(out[0])\n",
    "    print(out_text)\n",
    "\n",
    "# def evaluator(query,ans,ground_truth):\n",
    "#     input_text=p_kve.format(query,ans,ground_truth)\n",
    "#     inputs=tokenizer(input_text, return_tensors=\"pt\")\n",
    "#     out = model.generate(\n",
    "#         input_ids=inputs[\"input_ids\"].to(device)\n",
    "#     )\n",
    "#     out_text = tokenizer.decode(out[0])\n",
    "#     print(out_text)\n"
   ]
  },
  {
   "cell_type": "code",
   "execution_count": null,
   "metadata": {},
   "outputs": [],
   "source": [
    "doc=\"Hanro Smitsman, born in 1967 in Breda( Netherlands), is a writer and director of film and television.\"\n",
    "\n",
    "query=\"\"\"[\n",
    "\"Which country is Dell Henderson, the director of the film \"One Law for the Woman\" (1924), from?\",\n",
    "\"Is Dell Henderson, the director of the film \"One Law for the Woman\" (1924), of American nationality?\",\n",
    "\"From which country hails Dell Henderson, the director of \"One Law for the Woman\" (1924)?\",\n",
    "\"Is the director of \"One Law for the Woman\" (1924), Dell Henderson, American by nationality?\"\n",
    "]\"\"\"\n",
    "spo=\"\"\"[\n",
    "{\"Subject\":\"George Delbert \"Dell\" Henderson\",\"Predicate\":\"date of birth\",\"Object\":\"July 5, 1877\"},\n",
    "{\"Subject\":\"George Delbert \"Dell\" Henderson\",\"Predicate\":\"date of death\",\"Object\":\"December 2, 1956\"},\n",
    "{\"Subject\":\"George Delbert \"Dell\" Henderson\",\"Predicate\":\"nationality\",\"Object\":\"Canadian-American\"},\n",
    "{\"Subject\":\"George Delbert \"Dell\" Henderson\",\"Predicate\":\"profession\",\"Object\":\"actor, director, writer\"}\n",
    "]\n",
    "\"\"\"\n",
    "\n",
    "# spo_extract(doc)\n",
    "\n",
    "qa_generate(query,spo)"
   ]
  },
  {
   "cell_type": "code",
   "execution_count": null,
   "metadata": {},
   "outputs": [],
   "source": [
    "qa_generate(\"\",\"\")"
   ]
  },
  {
   "cell_type": "code",
   "execution_count": null,
   "metadata": {},
   "outputs": [],
   "source": []
  }
 ],
 "metadata": {
  "kernelspec": {
   "display_name": "ptca",
   "language": "python",
   "name": "python3"
  },
  "language_info": {
   "codemirror_mode": {
    "name": "ipython",
    "version": 3
   },
   "file_extension": ".py",
   "mimetype": "text/x-python",
   "name": "python",
   "nbconvert_exporter": "python",
   "pygments_lexer": "ipython3",
   "version": "3.9.18"
  },
  "orig_nbformat": 4
 },
 "nbformat": 4,
 "nbformat_minor": 2
}
